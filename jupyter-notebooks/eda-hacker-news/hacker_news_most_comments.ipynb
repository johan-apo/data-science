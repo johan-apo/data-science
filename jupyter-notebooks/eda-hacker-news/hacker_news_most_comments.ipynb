{
 "cells": [
  {
   "cell_type": "markdown",
   "metadata": {},
   "source": [
    "# Hacker News: analizando las publicaciones\n",
    "En el presente proyecto, se planea comparar dos diferentes tipos de post de la página web [Hacker News](https://news.ycombinator.com/), un sitio web muy popular donde los usuarios redactan publicaciones (o \"posts\", en adelante se empleará ambos indistintamente) los cuales son votados y comentados por la comunidad. Los dos tipos de publicaciones a analizar son `Ask HN` y `Show HN`.\n",
    "Los usuarios publican `Ask HN` para preguntar y solicitar información a la comunidad, como por ejemplo \"¿Qué cursos en línea recomiendan para aprender *pentesting*?\". De igual manera, `Show HN` son post que buscan mostrar proyectos, un producto, o simplemente alguna información a la comunidad.\n",
    "Se comparará especificamente estos dos tipos de post par determinar las siguientes cuestiones:\n",
    "* ¿Cuál de las dos publicaciones: `Ask HN` o `Show HN`, reciben más comentarios en promedio?\n",
    "* ¿Las publicaciones creadas en un momento específico reciben más comentarios en promedio?\n",
    "\n",
    "El conjunto de datos (en adelante, data set) con el que se trabajará ha sido reducido de 300000 filas a aproximadamente 20000 filas debido a que previamente, se eliminó todas las publicaciones sin comentarios, y luego, se eligió aleatoriamente una muestra de la población restante.\n",
    "\n",
    "## Introducción\n",
    "Primero, se lee el data set, luego, se convierte a una lista. Se imprimen las primeras filas para echar un rápido vistazo a la estructura de los datos."
   ]
  },
  {
   "cell_type": "code",
   "execution_count": 1,
   "metadata": {
    "collapsed": false,
    "jupyter": {
     "outputs_hidden": false
    },
    "tags": []
   },
   "outputs": [
    {
     "output_type": "stream",
     "name": "stdout",
     "text": "[['id', 'title', 'url', 'num_points', 'num_comments', 'author', 'created_at'], ['12224879', 'Interactive Dynamic Video', 'http://www.interactivedynamicvideo.com/', '386', '52', 'ne0phyte', '8/4/2016 11:52'], ['10975351', 'How to Use Open Source and Shut the Fuck Up at the Same Time', 'http://hueniverse.com/2016/01/26/how-to-use-open-source-and-shut-the-fuck-up-at-the-same-time/', '39', '10', 'josep2', '1/26/2016 19:30'], ['11964716', \"Florida DJs May Face Felony for April Fools' Water Joke\", 'http://www.thewire.com/entertainment/2013/04/florida-djs-april-fools-water-joke/63798/', '2', '1', 'vezycash', '6/23/2016 22:20'], ['11919867', 'Technology ventures: From Idea to Enterprise', 'https://www.amazon.com/Technology-Ventures-Enterprise-Thomas-Byers/dp/0073523429', '3', '1', 'hswarna', '6/17/2016 0:01']]\n"
    }
   ],
   "source": [
    "from csv import reader\n",
    "opened_file = open('hacker_news.csv')\n",
    "read_file = reader(opened_file)\n",
    "hn = list(read_file)\n",
    "print(hn[:5])"
   ]
  },
  {
   "cell_type": "markdown",
   "metadata": {},
   "source": [
    "## Separando el encabezado del conjunto de datos"
   ]
  },
  {
   "cell_type": "code",
   "execution_count": 2,
   "metadata": {
    "collapsed": false,
    "jupyter": {
     "outputs_hidden": false
    },
    "tags": []
   },
   "outputs": [
    {
     "output_type": "stream",
     "name": "stdout",
     "text": "[['12224879', 'Interactive Dynamic Video', 'http://www.interactivedynamicvideo.com/', '386', '52', 'ne0phyte', '8/4/2016 11:52'], ['10975351', 'How to Use Open Source and Shut the Fuck Up at the Same Time', 'http://hueniverse.com/2016/01/26/how-to-use-open-source-and-shut-the-fuck-up-at-the-same-time/', '39', '10', 'josep2', '1/26/2016 19:30'], ['11964716', \"Florida DJs May Face Felony for April Fools' Water Joke\", 'http://www.thewire.com/entertainment/2013/04/florida-djs-april-fools-water-joke/63798/', '2', '1', 'vezycash', '6/23/2016 22:20'], ['11919867', 'Technology ventures: From Idea to Enterprise', 'https://www.amazon.com/Technology-Ventures-Enterprise-Thomas-Byers/dp/0073523429', '3', '1', 'hswarna', '6/17/2016 0:01'], ['10301696', 'Note by Note: The Making of Steinway L1037 (2007)', 'http://www.nytimes.com/2007/11/07/movies/07stein.html?_r=0', '8', '2', 'walterbell', '9/30/2015 4:12']]\n"
    }
   ],
   "source": [
    "headers = hn[0]\n",
    "hn = hn[1:] # Se almacena el data set en otra variable\n",
    "print(hn[:5])"
   ]
  },
  {
   "cell_type": "markdown",
   "metadata": {},
   "source": [
    "En el header, se observa que el data set contiene información como el título, número de puntos, número de comentarios, autor, y la fecha y hora en la que fueron creadas. Los datos útiles son: el título `title`, la fecha y hora `created_at`, y el número de comentarios `num_comments`.\n",
    "El siguiente paso es explorar en detalle el número de comentarios por cada tipo de post.\n",
    "## Extrayendo publicaciones Ask HN y Show HN\n",
    "Primero, se identifica que los mencionados tipos de posts comienzan con `Ask HN` y `Show HN`, luego, se separan cada tipo en listas diferentes. Esto ayuda a un mejor manejo y análisis en posteriores pasos."
   ]
  },
  {
   "cell_type": "code",
   "execution_count": 3,
   "metadata": {
    "collapsed": false,
    "jupyter": {
     "outputs_hidden": false
    },
    "tags": []
   },
   "outputs": [
    {
     "output_type": "stream",
     "name": "stdout",
     "text": "1744 1162 17194\n"
    }
   ],
   "source": [
    "# Identificar los posts que empiezan por Ask HN y Show HN,\n",
    "# separar los datos en listas diferentes\n",
    "ask_posts, show_posts, other_posts = [], [], []\n",
    "for row in hn:\n",
    "    title = row[1].lower()\n",
    "    if title.startswith('ask hn'):\n",
    "        ask_posts.append(row)\n",
    "    elif title.startswith('show hn'):\n",
    "        show_posts.append(row)\n",
    "    else:\n",
    "        other_posts.append(row)\n",
    "\n",
    "print(len(ask_posts), len(show_posts), len(other_posts))"
   ]
  },
  {
   "cell_type": "markdown",
   "metadata": {},
   "source": [
    "## Calculando la cantidad promedio de comentarios para publicaciones Ask HN y Show HN\n",
    "Con los posts separados, se planea calcular el promedio para cada tipo de publicación respectivamente."
   ]
  },
  {
   "cell_type": "code",
   "execution_count": 4,
   "metadata": {
    "collapsed": false,
    "jupyter": {
     "outputs_hidden": false
    },
    "tags": []
   },
   "outputs": [
    {
     "output_type": "stream",
     "name": "stdout",
     "text": "Promedio de comentarios para posts Ask HN: 14.038417431192661\nPromedio de comentarios para posts Show HN: 10.31669535283993\n"
    }
   ],
   "source": [
    "total_ask_comments, total_show_comments = 0, 0\n",
    "\n",
    "for row in ask_posts:\n",
    "    total_ask_comments += int(row[4])\n",
    "    \n",
    "avg_ask_comments = total_ask_comments / len(ask_posts) # promedio Ask HN\n",
    "print('Promedio de comentarios para posts Ask HN:', avg_ask_comments)\n",
    "\n",
    "for row in show_posts:\n",
    "    total_show_comments += int(row[4])\n",
    "    \n",
    "avg_show_comments = total_show_comments / len(show_posts) # promedio Show HN\n",
    "print('Promedio de comentarios para posts Show HN:', avg_show_comments)"
   ]
  },
  {
   "cell_type": "markdown",
   "metadata": {},
   "source": [
    "Por lo que se observa, los post donde se solicita o se pregunta (Ask HN) reciben en promedio 14 comentarios que los que brindan información (Show HN) con 10 comentarios. Debido a que el tipo Ask HN recibe más comentarios, se enfocará la atención y el análisis a estos en los siguientes procedimientos.\n",
    "## Encontrando la cantidad de comentarios por hora creados para el tipo Ask HN (más comentado)\n",
    "Ahora, responderemos a la idea de si es posible maximizar la cantidad de comentarios si el post se publica en una hora determinada. Antes que nada, se encuentra la cantidad de publicaciones Ask HN por hora, acompañado del número de comentarios recibidos. Luego, se calcula el promedio de la cantidad de comentarios por hora del día."
   ]
  },
  {
   "cell_type": "code",
   "execution_count": 5,
   "metadata": {
    "collapsed": false,
    "jupyter": {
     "outputs_hidden": false
    }
   },
   "outputs": [
    {
     "output_type": "execute_result",
     "data": {
      "text/plain": "{'09': 251,\n '13': 1253,\n '10': 793,\n '14': 1416,\n '16': 1814,\n '23': 543,\n '12': 687,\n '17': 1146,\n '15': 4477,\n '21': 1745,\n '20': 1722,\n '02': 1381,\n '18': 1439,\n '03': 421,\n '05': 464,\n '19': 1188,\n '01': 683,\n '22': 479,\n '08': 492,\n '04': 337,\n '00': 447,\n '06': 397,\n '07': 267,\n '11': 641}"
     },
     "metadata": {},
     "execution_count": 5
    }
   ],
   "source": [
    "import datetime as dt\n",
    "result_list = []\n",
    "\n",
    "for row in ask_posts:\n",
    "    result_list.append([row[6], int(row[4])]) # fecha y número de comentarios\n",
    "    \n",
    "counts_by_hour, comments_by_hour = {}, {}\n",
    "# counts_by hour: número de posts por hora\n",
    "# comments_by_hour: número de comentarios por hora\n",
    "time_format = '%m/%d/%Y %H:%M'\n",
    "\n",
    "for row in result_list:\n",
    "    date = row[0]\n",
    "    comment = row[1]\n",
    "    time = dt.datetime.strptime(date, time_format).strftime('%H')\n",
    "    if time not in counts_by_hour:\n",
    "        counts_by_hour[time] = 1\n",
    "        comments_by_hour[time] = comment\n",
    "    else:\n",
    "        counts_by_hour[time] += 1\n",
    "        comments_by_hour[time] += comment\n",
    "        \n",
    "comments_by_hour"
   ]
  },
  {
   "cell_type": "markdown",
   "metadata": {},
   "source": [
    "El diccionario anterior indica la cantidad de comentarios por hora para los posts tipo Ask HN.\n",
    "## Calculando la cantidad promedio de comentarios por hora para las publicaciones Ask HN\n",
    "A continuación, se crea una lista cuyo contenido será el promedio de comentarios por hora."
   ]
  },
  {
   "cell_type": "code",
   "execution_count": 6,
   "metadata": {
    "collapsed": false,
    "jupyter": {
     "outputs_hidden": false
    }
   },
   "outputs": [
    {
     "output_type": "execute_result",
     "data": {
      "text/plain": "[['09', 5.5777777777777775],\n ['13', 14.741176470588234],\n ['10', 13.440677966101696],\n ['14', 13.233644859813085],\n ['16', 16.796296296296298],\n ['23', 7.985294117647059],\n ['12', 9.41095890410959],\n ['17', 11.46],\n ['15', 38.5948275862069],\n ['21', 16.009174311926607],\n ['20', 21.525],\n ['02', 23.810344827586206],\n ['18', 13.20183486238532],\n ['03', 7.796296296296297],\n ['05', 10.08695652173913],\n ['19', 10.8],\n ['01', 11.383333333333333],\n ['22', 6.746478873239437],\n ['08', 10.25],\n ['04', 7.170212765957447],\n ['00', 8.127272727272727],\n ['06', 9.022727272727273],\n ['07', 7.852941176470588],\n ['11', 11.051724137931034]]"
     },
     "metadata": {},
     "execution_count": 6
    }
   ],
   "source": [
    "avg_by_hour = []\n",
    "\n",
    "for hr in comments_by_hour:\n",
    "    avg_by_hour.append([hr, comments_by_hour[hr] / counts_by_hour[hr]])\n",
    "\n",
    "avg_by_hour"
   ]
  },
  {
   "cell_type": "markdown",
   "metadata": {},
   "source": [
    "## Ordenando e imprimiendo en pantalla los valores"
   ]
  },
  {
   "cell_type": "code",
   "execution_count": 7,
   "metadata": {
    "collapsed": false,
    "jupyter": {
     "outputs_hidden": false
    }
   },
   "outputs": [
    {
     "output_type": "execute_result",
     "data": {
      "text/plain": "[[38.5948275862069, '15'],\n [23.810344827586206, '02'],\n [21.525, '20'],\n [16.796296296296298, '16'],\n [16.009174311926607, '21'],\n [14.741176470588234, '13'],\n [13.440677966101696, '10'],\n [13.233644859813085, '14'],\n [13.20183486238532, '18'],\n [11.46, '17'],\n [11.383333333333333, '01'],\n [11.051724137931034, '11'],\n [10.8, '19'],\n [10.25, '08'],\n [10.08695652173913, '05'],\n [9.41095890410959, '12'],\n [9.022727272727273, '06'],\n [8.127272727272727, '00'],\n [7.985294117647059, '23'],\n [7.852941176470588, '07'],\n [7.796296296296297, '03'],\n [7.170212765957447, '04'],\n [6.746478873239437, '22'],\n [5.5777777777777775, '09']]"
     },
     "metadata": {},
     "execution_count": 7
    }
   ],
   "source": [
    "swap_avg_by_hour = []\n",
    "\n",
    "for row in avg_by_hour:\n",
    "    swap_avg_by_hour.append([row[1], row[0]]) # se intercambia de lugar mutuamente\n",
    "\n",
    "sorted_swap = sorted(swap_avg_by_hour, reverse=True) # ordenado de mayor a menor\n",
    "\n",
    "sorted_swap"
   ]
  },
  {
   "cell_type": "code",
   "execution_count": 8,
   "metadata": {
    "collapsed": false,
    "jupyter": {
     "outputs_hidden": false
    },
    "tags": []
   },
   "outputs": [
    {
     "output_type": "stream",
     "name": "stdout",
     "text": "Top de las 5 horas con mayor recurrencia de comentarios para 'Ask HN'\n15:00: 38.59 promedio de comentarios por publicación\n02:00: 23.81 promedio de comentarios por publicación\n20:00: 21.52 promedio de comentarios por publicación\n16:00: 16.80 promedio de comentarios por publicación\n21:00: 16.01 promedio de comentarios por publicación\n"
    }
   ],
   "source": [
    "# Ordenado de valores e impresión de las 5 horas con\n",
    "# mayor promedio de comentarios\n",
    "print(\"Top de las 5 horas con mayor recurrencia de comentarios para 'Ask HN'\")\n",
    "for avg, hr in sorted_swap[:5]:\n",
    "    print(\"{}: {:.2f} promedio de comentarios por publicación\".format(dt.datetime.strptime(hr, \"%H\").strftime(\"%H:%M\"), \n",
    "                                                                      avg)\n",
    "         )"
   ]
  },
  {
   "cell_type": "markdown",
   "metadata": {},
   "source": [
    "La hora que recibe la mayor cantidad de comentarios por publicación es las 15:00 (quince horas) con un promedio de 38.59 comentarios por post. Además, existe alrededor de un 60% de incremento del número de comentarios promedio respecto al segundo lugar (02:00).\n",
    "Según la [documentación](https://www.kaggle.com/hacker-news/hacker-news-posts/home) del data set, la zona horaria empleada es *Eastern Time* en EUA. Por lo que también se puede reescribir 15:00 como 3:00 pm EST.\n",
    "## Conclusión\n",
    "En el presente proyecto, se analizó dos tipos de posts: Ask HN y Show HN, para determinar cuál tipo de post y a qué hora recibe en promedio la mayor cantidad de comentarios. Basado en el análisis previo, para maximizar esto se recomienda publicar un post de tipo Ask HN entre las 15:00 y 16:00 (3:00 pm EST y 4:00 pm EST respectivamente).\n",
    "No obstante, se debe advertir que el conjunto de datos analizado únicamente incluía posts con comentarios.\n",
    "\n",
    "Después de lo mencionado, es más correcto concluir que, **de las publicaciones que recibieron comentarios, las publicaciones de tipo Ask HN en un rango horario de 15:00 y 16:00 (3:00 pm EST y 4:00 pm EST) recibieron en promedio más comentarios que otro tipo de publicación y hora.**"
   ]
  }
 ],
 "metadata": {
  "kernelspec": {
   "display_name": "Python 3",
   "language": "python",
   "name": "python3"
  },
  "language_info": {
   "codemirror_mode": {
    "name": "ipython",
    "version": 3
   },
   "file_extension": ".py",
   "mimetype": "text/x-python",
   "name": "python",
   "nbconvert_exporter": "python",
   "pygments_lexer": "ipython3",
   "version": "3.7.3"
  }
 },
 "nbformat": 4,
 "nbformat_minor": 4
}